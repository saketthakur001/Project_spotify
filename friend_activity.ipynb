{
 "cells": [
  {
   "cell_type": "code",
   "execution_count": 3,
   "metadata": {},
   "outputs": [],
   "source": [
    "from main import *\n",
    "\n",
    "# define a class for friends activity analysis\n",
    "class FriendActivityAnaliser:\n",
    "    # define the constructor method that takes the database name as an input\n",
    "    def __init__(self, database_name=\"friends_activity.db\"):\n",
    "        # store the database name as an attribute\n",
    "        self.database_name = database_name\n",
    "        # try to connect to the database and create a cursor object\n",
    "        try:\n",
    "            self.conn = sqlite3.connect(self.database_name)\n",
    "            self.cur = self.conn.cursor()\n",
    "            print(f\"Connected to {self.database_name} successfully.\")\n",
    "        except sqlite3.Error as e:\n",
    "            print(f\"Error connecting to {self.database_name}: {e}\")\n",
    "\n",
    "    # define a method that returns the most played tracks for a given user or users, time period, artist or artists, album or albums and limit\n",
    "    def top_tracks(self, user_id=None, time_period=None, by_artist_uri=None, by_album_uri=None, limit=None):\n",
    "        # construct the SQL query to select the user name, user uri, track uri, track name, artist uri, album uri, album name and count the number of streamings for each track\n",
    "        sql = \"\"\"SELECT u.user_name, u.user_url, u.user_image_url, t.track_uri, t.track_name, al.album_name, al.album_uri, a.artist_uri, a.artist_name, COUNT(s.track_id) AS streamings\n",
    "                FROM users u\n",
    "                JOIN streamings s ON u.user_id = s.user_id -- join the users and streamings tables on user_id\n",
    "                JOIN tracks t ON s.track_id = t.track_id -- join the streamings and tracks tables on track_id\n",
    "                JOIN artists a ON t.artist_id = a.artist_id -- join the tracks and artists tables on artist_id\n",
    "                JOIN albums al ON t.album_id = al.album_id -- join the tracks and albums tables on album_id\n",
    "                \"\"\"\n",
    "\n",
    "        # initialize a list to store the query parameters\n",
    "        params = []\n",
    "\n",
    "        # if user_id is not None, add a WHERE clause to filter by user_id\n",
    "        if user_id is not None:\n",
    "            # if user_id is a single value, use the equal operator\n",
    "            if isinstance(user_id, int):\n",
    "                sql += \" WHERE u.user_id = ?\"\n",
    "                params.append(user_id)\n",
    "            # if user_id is a list or tuple of values, use the IN operator\n",
    "            elif isinstance(user_id, (list, tuple)):\n",
    "                sql += f\" WHERE u.user_id IN ({','.join(['?'] * len(user_id))})\"\n",
    "                params.extend(user_id)\n",
    "\n",
    "        # if time_period is not None, add a AND clause to filter by timestamp\n",
    "        if time_period is not None:\n",
    "            # if time_period is a tuple of start and end values, use the BETWEEN operator\n",
    "            if isinstance(time_period, tuple) and len(time_period) == 2:\n",
    "                sql += \" AND s.timestamp BETWEEN ? AND ?\"\n",
    "                params.extend(time_period)\n",
    "            # if time_period is a single value for start or end, use the greater than or equal or less than or equal operator\n",
    "            elif isinstance(time_period, str):\n",
    "                # check if the value starts with '>' or '<' and use the corresponding operator\n",
    "                if time_period.startswith('>'):\n",
    "                    sql += \" AND s.timestamp >= ?\"\n",
    "                    params.append(time_period[1:])\n",
    "                elif time_period.startswith('<'):\n",
    "                    sql += \" AND s.timestamp <= ?\"\n",
    "                    params.append(time_period[1:])\n",
    "\n",
    "        # if by_artist_uri is not None, add a AND clause to filter by artist_uri\n",
    "        if by_artist_uri is not None:\n",
    "            # if by_artist_uri is a single value, use the equal operator\n",
    "            if isinstance(by_artist_uri, str):\n",
    "                sql += \" AND a.artist_uri = ?\"\n",
    "                params.append(by_artist_uri)\n",
    "            # if by_artist_uri is a list or tuple of values, use the IN operator\n",
    "            elif isinstance(by_artist_uri, (list, tuple)):\n",
    "                sql += f\" AND a.artist_uri IN ({','.join(['?'] * len(by_artist_uri))})\"\n",
    "                params.extend(by_artist_uri)\n",
    "\n",
    "        # if by_album_uri is not None, add a AND clause to filter by album_uri\n",
    "        if by_album_uri is not None:\n",
    "            # if by_album_uri is a single value, use the equal operator\n",
    "            if isinstance(by_album_uri, str):\n",
    "                sql += \" AND al.album_uri = ?\"\n",
    "                params.append(by_album_uri)\n",
    "            # if by_album_uri is a list or tuple of values, use the IN operator\n",
    "            elif isinstance(by_album_uri, (list, tuple)):\n",
    "                sql += f\" AND al.album_uri IN ({','.join(['?'] * len(by_album_uri))})\"\n",
    "                params.extend(by_album_uri)\n",
    "\n",
    "        # group by user name, track uri, track name, artist uri, album uri and album name\n",
    "        sql += \" GROUP BY u.user_name, t.track_uri, t.track_name, a.artist_uri , al.album_uri , al.album_name\"\n",
    "\n",
    "        # order by streamings in descending order\n",
    "        sql += \" ORDER BY streamings DESC\"\n",
    "\n",
    "        # if limit is not None and is an integer value greater than zero, add a LIMIT clause to limit the result to the given limit value\n",
    "        if limit is not None and isinstance(limit, int) and limit > 0:\n",
    "            sql += f\" LIMIT {limit}\"\n",
    "\n",
    "        # try to execute the query and fetch the results\n",
    "        try:\n",
    "            self.cur.execute(sql, params)\n",
    "            data = self.cur.fetchall()       \n",
    "            # assume the above list is stored in a variable called data\n",
    "            result = [] # initialize an empty list to store the result\n",
    "            # loop through the data list\n",
    "            for item in data:\n",
    "                # create a dict for each item with the corresponding keys and values\n",
    "                user_dict = {\n",
    "                    'userName': item[0],\n",
    "                    'userUri': item[1],\n",
    "                    'userImage': item[2],\n",
    "                    # create a dict for the track information\n",
    "                    'track_info': {\n",
    "                        'trackUri': item[3],\n",
    "                        'trackName': item[4],\n",
    "                        'albumUri': item[6],\n",
    "                        'albumName': item[5],\n",
    "                        'artistUri': item[7],\n",
    "                        'artistName': item[8],\n",
    "                        'streamings': item[9]\n",
    "                    }\n",
    "                }\n",
    "                # check if the user name is already in the result list\n",
    "                found = False # initialize a flag to indicate if the user is found\n",
    "                for user in result:\n",
    "                    # if the user name matches, append the track info to the existing user's tracks_info list\n",
    "                    if user['userName'] == user_dict['userName']:\n",
    "                        user['tracks_info'].append(user_dict['track_info'])\n",
    "                        found = True # set the flag to True\n",
    "                        break # exit the loop\n",
    "                # if the user name is not found, create a new user dict with an empty tracks_info list and append the track info to it\n",
    "                if not found:\n",
    "                    user_dict['tracks_info'] = [user_dict.pop('track_info')] # remove the track_info key and add it as a list to tracks_info key\n",
    "                    result.append(user_dict) # append the user dict to the result list\n",
    "\n",
    "            # return the results as a list of tuples\n",
    "            return result\n",
    "        except sqlite3.Error as e:\n",
    "            print(f\"Error executing query: {e}\")\n",
    "\n",
    "\n",
    "    # define a method that returns the most played artists for a given user or users, time period, and limit\n",
    "    def top_artists(self, user_id=None, time_period=None, limit=None):\n",
    "        # construct the SQL query to select the user name, artist uri, artist name, and count the number of streamings for each artist\n",
    "        sql = \"\"\"SELECT u.user_name, a.artist_uri, a.artist_name, COUNT(s.track_id) AS streamings\n",
    "                FROM users u\n",
    "                JOIN streamings s ON u.user_id = s.user_id -- join the users and streamings tables on user_id\n",
    "                JOIN tracks t ON s.track_id = t.track_id -- join the streamings and tracks tables on track_id\n",
    "                JOIN artists a ON t.artist_id = a.artist_id -- join the tracks and artists tables on artist_id\n",
    "                \"\"\"\n",
    "\n",
    "        # initialize a list to store the query parameters\n",
    "        params = []\n",
    "\n",
    "        # if user_id is not None, add a WHERE clause to filter by user_id\n",
    "        if user_id is not None:\n",
    "            # if user_id is a single value, use the equal operator\n",
    "            if isinstance(user_id, int):\n",
    "                sql += \" WHERE u.user_id = ?\"\n",
    "                params.append(user_id)\n",
    "            # if user_id is a list or tuple of values, use the IN operator\n",
    "            elif isinstance(user_id, (list, tuple)):\n",
    "                sql += f\" WHERE u.user_id IN ({','.join(['?'] * len(user_id))})\"\n",
    "                params.extend(user_id)\n",
    "\n",
    "        # if time_period is not None, add an AND clause to filter by timestamp\n",
    "        if time_period is not None:\n",
    "            # if time_period is a tuple of start and end values, use the BETWEEN operator\n",
    "            if isinstance(time_period, tuple) and len(time_period) == 2:\n",
    "                sql += \" AND s.timestamp BETWEEN ? AND ?\"\n",
    "                params.extend(time_period)\n",
    "            # if time_period is a single value for start or end, use the greater than or equal or less than or equal operator\n",
    "            elif isinstance(time_period, str):\n",
    "                # check if the value starts with '>' or '<' and use the corresponding operator\n",
    "                if time_period.startswith('>'):\n",
    "                    sql += \" AND s.timestamp >= ?\"\n",
    "                    params.append(time_period[1:])\n",
    "                elif time_period.startswith('<'):\n",
    "                    sql += \" AND s.timestamp <= ?\"\n",
    "                    params.append(time_period[1:])\n",
    "\n",
    "        # group by user name, artist uri, and artist name\n",
    "        sql += \" GROUP BY u.user_name, a.artist_uri, a.artist_name\"\n",
    "\n",
    "        # order by streamings in descending order\n",
    "        sql += \" ORDER BY streamings DESC\"\n",
    "\n",
    "        # if limit is not None and is an integer value greater than zero, add a LIMIT clause to limit the result to the given limit value\n",
    "        if limit is not None and isinstance(limit, int) and limit > 0:\n",
    "            sql += f\" LIMIT {limit}\"\n",
    "\n",
    "        # try to execute the query and fetch the results\n",
    "        try:\n",
    "            self.cur.execute(sql, params)\n",
    "            results = self.cur.fetchall()\n",
    "            # return the results as a list of tuples\n",
    "            return results\n",
    "        except sqlite3.Error as e:\n",
    "            print(f\"Error executing query: {e}\")\n",
    "\n",
    "    \n",
    "    # define a function that returns the users that listened to a particular artist the most\n",
    "    def top_users_by_artist(self, artist_id, limit=None):\n",
    "        # construct the SQL query that joins the users, streamings, tracks, and artists tables on their respective columns and filters by the given artist_id\n",
    "        sql = \"\"\"SELECT u.user_name, u.user_image_url, COUNT(s.track_id) AS streamings\n",
    "                FROM users u\n",
    "                JOIN streamings s ON u.user_id = s.user_id\n",
    "                JOIN tracks t ON s.track_id = t.track_id\n",
    "                JOIN artists a ON t.artist_id = a.artist_id\n",
    "                WHERE a.artist_id = ?\n",
    "                GROUP BY u.user_name, u.user_image_url\n",
    "                ORDER BY streamings DESC\n",
    "            \"\"\"\n",
    "\n",
    "        # initialize a list to store the query parameters\n",
    "        params = []\n",
    "\n",
    "        # add the artist_id parameter to the list\n",
    "        params.append(artist_id)\n",
    "\n",
    "        # if limit is not None and is an integer value greater than zero, add a LIMIT clause to limit the result to the given limit value\n",
    "        if limit is not None and isinstance(limit, int) and limit > 0:\n",
    "            sql += f\" LIMIT {limit}\"\n",
    "\n",
    "        # try to execute the query and fetch the results\n",
    "        try:\n",
    "            self.cur.execute(sql, params)\n",
    "            results = self.cur.fetchall()\n",
    "            # return the results as a list of tuples\n",
    "            return results\n",
    "        except sqlite3.Error as e:\n",
    "            print(f\"Error executing query: {e}\")\n",
    "    # define a method that returns the most played albums for a given user or users, time period, and limit\n",
    "    def top_albums(self, user_id=None, time_period=None, limit=None):\n",
    "        # construct the SQL query to select the user name, album uri, album name, and count the number of streamings for each album\n",
    "        sql = \"\"\"SELECT u.user_name, al.album_uri, al.album_name, COUNT(s.track_id) AS streamings\n",
    "                FROM users u\n",
    "                JOIN streamings s ON u.user_id = s.user_id -- join the users and streamings tables on user_id\n",
    "                JOIN tracks t ON s.track_id = t.track_id -- join the streamings and tracks tables on track_id\n",
    "                JOIN albums al ON t.album_id = al.album_id -- join the tracks and albums tables on album id\n",
    "                \"\"\"\n",
    "\n",
    "        # initialize a list to store the query parameters\n",
    "        params = []\n",
    "\n",
    "        # if user_id is not None, add a WHERE clause to filter by user_id\n",
    "        if user_id is not None:\n",
    "            # if user_id is a single value, use the equal operator\n",
    "            if isinstance(user_id, int):\n",
    "                sql += \" WHERE u.user_id = ?\"\n",
    "                params.append(user_id)\n",
    "            # if user_id is a list or tuple of values, use the IN operator\n",
    "            elif isinstance(user_id, (list, tuple)):\n",
    "                sql += f\" WHERE u.user_id IN ({','.join(['?'] * len(user_id))})\"\n",
    "                params.extend(user_id)\n",
    "\n",
    "        # if time_period is not None, add an AND clause to filter by timestamp\n",
    "        if time_period is not None:\n",
    "            # if time_period is a tuple of start and end values, use the BETWEEN operator\n",
    "            if isinstance(time_period, tuple) and len(time_period) == 2:\n",
    "                sql += \" AND s.timestamp BETWEEN ? AND ?\"\n",
    "                params.extend(time_period)\n",
    "            # if time_period is a single value for start or end, use the greater than or equal or less than or equal operator\n",
    "            elif isinstance(time_period, str):\n",
    "                # check if the value starts with '>' or '<' and use the corresponding operator\n",
    "                if time_period.startswith('>'):\n",
    "                    sql += \" AND s.timestamp >= ?\"\n",
    "                    params.append(time_period[1:])\n",
    "                elif time_period.startswith('<'):\n",
    "                    sql += \" AND s.timestamp <= ?\"\n",
    "                    params.append(time_period[1:])\n",
    "\n",
    "        # group by user name, album uri, and album name\n",
    "        sql += \" GROUP BY u.user_name, al.album_uri, al.album_name\"\n",
    "\n",
    "        # order by streamings in descending order\n",
    "        sql += \" ORDER BY streamings DESC\"\n",
    "\n",
    "        # if limit is not None and is an integer value greater than zero, add a LIMIT clause to limit the result to the given limit value\n",
    "        if limit is not None and isinstance(limit, int) and limit > 0:\n",
    "            sql += f\" LIMIT {limit}\"\n",
    "\n",
    "        # try to execute the query and fetch the results\n",
    "        try:\n",
    "            self.cur.execute(sql, params)\n",
    "            results = self.cur.fetchall()\n",
    "            # return the results as a list of tuples\n",
    "            return results\n",
    "        except sqlite3.Error as e:\n",
    "            print(f\"Error executing query: {e}\")\n",
    "\n",
    "    # define a method that returns the most played artists for a given user or users, time period, and limit\n",
    "    def top_contexts(self, user_id=None, time_period=None, limit=None, most_played_songs_in_the_context=1):\n",
    "        # construct the SQL query to select the user name, context URI, context name, count the number of streamings for each context, and the most played song or songs in the context\n",
    "        sql = \"\"\"SELECT u.user_name, c.context_uri, c.context_name, COUNT(s.track_id) AS streamings,\n",
    "                (SELECT t.track_name || ' (' || COUNT(s2.track_id) || ')' -- concatenate the track name and the number of streamings for each track in the context\n",
    "                FROM streamings s2\n",
    "                JOIN tracks t ON s2.track_id = t.track_id -- join the streamings and tracks tables on track_id\n",
    "                WHERE s2.context_id = s.context_id -- filter by the same context_id as in the outer query\n",
    "                GROUP BY t.track_name, t.track_id -- group by track name and track id\n",
    "                ORDER BY COUNT(s2.track_id) DESC -- order by streamings in descending order\n",
    "                LIMIT ? -- limit by the most_played_songs_in_the_context parameter\n",
    "                ) AS most_played_songs_in_the_context\n",
    "                FROM users u\n",
    "                JOIN streamings s ON u.user_id = s.user_id -- join the users and streamings tables on user_id\n",
    "                JOIN context c ON s.context_id = c.context_id -- join the streamings and context tables on context_id\n",
    "            \"\"\"\n",
    "\n",
    "        # initialize a list to store the query parameters\n",
    "        params = []\n",
    "\n",
    "        # add the most_played_songs_in_the_context parameter to the list\n",
    "        params.append(most_played_songs_in_the_context)\n",
    "\n",
    "        # if user_id is not None, add a WHERE clause to filter by user_id\n",
    "        if user_id is not None:\n",
    "            # if user_id is a single value, use the equal operator\n",
    "            if isinstance(user_id, int):\n",
    "                sql += \" WHERE u.user_id = ?\"\n",
    "                params.append(user_id)\n",
    "            # if user_id is a list or tuple of values, use the IN operator\n",
    "            elif isinstance(user_id, (list, tuple)):\n",
    "                sql += f\" WHERE u.user_id IN ({','.join(['?'] * len(user_id))})\"\n",
    "                params.extend(user_id)\n",
    "\n",
    "        # if time_period is not None, add an AND clause to filter by timestamp\n",
    "        if time_period is not None:\n",
    "            # if time_period is a tuple of start and end values, use the BETWEEN operator\n",
    "            if isinstance(time_period, tuple) and len(time_period) == 2:\n",
    "                sql += \" AND s.timestamp BETWEEN ? AND ?\"\n",
    "                params.extend(time_period)\n",
    "            # if time_period is a single value for start or end, use the greater than or equal or less than or equal operator\n",
    "            elif isinstance(time_period, str):\n",
    "                # check if the value starts with '>' or '<' and use the corresponding operator\n",
    "                if time_period.startswith('>'):\n",
    "                    sql += \" AND s.timestamp >= ?\"\n",
    "                    params.append(time_period[1:])\n",
    "                elif time_period.startswith('<'):\n",
    "                    sql += \" AND s.timestamp <= ?\"\n",
    "                    params.append(time_period[1:])\n",
    "\n",
    "        # group by user name, context URI, and context name\n",
    "        sql += \" GROUP BY u.user_name, c.context_uri, c.context_name\"\n",
    "\n",
    "        # order by streamings in descending order\n",
    "        sql += \" ORDER BY streamings DESC\"\n",
    "\n",
    "        # if limit is not None and is an integer value greater than zero, add a LIMIT clause to limit the result to the given limit value\n",
    "        if limit is not None and isinstance(limit, int) and limit > 0:\n",
    "            sql += f\" LIMIT {limit}\"\n",
    "\n",
    "        # try to execute the query and fetch the results\n",
    "        try:\n",
    "            self.cur.execute(sql, params)\n",
    "            results = self.cur.fetchall()\n",
    "            \n",
    "            # return the results as a list of tuples\n",
    "            return results\n",
    "        except sqlite3.Error as e:\n",
    "            print(f\"Error executing query: {e}\")# define a class for friends activity analysis\n",
    "\n",
    "\n",
    "# friend_activity = FriendActivityAnaliser()\n",
    "\n",
    "# f = friend_activity.top_tracks(limit=100)\n",
    "# print(f)\n",
    "\n"
   ]
  },
  {
   "cell_type": "code",
   "execution_count": 5,
   "metadata": {},
   "outputs": [
    {
     "data": {
      "text/html": [
       "<pre style=\"white-space:pre;overflow-x:auto;line-height:normal;font-family:Menlo,'DejaVu Sans Mono',consolas,'Courier New',monospace\">Table: users\n",
       "</pre>\n"
      ],
      "text/plain": [
       "Table: users\n"
      ]
     },
     "metadata": {},
     "output_type": "display_data"
    },
    {
     "data": {
      "text/html": [
       "<pre style=\"white-space:pre;overflow-x:auto;line-height:normal;font-family:Menlo,'DejaVu Sans Mono',consolas,'Courier New',monospace\">Columns:\n",
       "</pre>\n"
      ],
      "text/plain": [
       "Columns:\n"
      ]
     },
     "metadata": {},
     "output_type": "display_data"
    },
    {
     "data": {
      "text/html": [
       "<pre style=\"white-space:pre;overflow-x:auto;line-height:normal;font-family:Menlo,'DejaVu Sans Mono',consolas,'Courier New',monospace\">- user_id\n",
       "</pre>\n"
      ],
      "text/plain": [
       "- user_id\n"
      ]
     },
     "metadata": {},
     "output_type": "display_data"
    },
    {
     "data": {
      "text/html": [
       "<pre style=\"white-space:pre;overflow-x:auto;line-height:normal;font-family:Menlo,'DejaVu Sans Mono',consolas,'Courier New',monospace\">- user_url\n",
       "</pre>\n"
      ],
      "text/plain": [
       "- user_url\n"
      ]
     },
     "metadata": {},
     "output_type": "display_data"
    },
    {
     "data": {
      "text/html": [
       "<pre style=\"white-space:pre;overflow-x:auto;line-height:normal;font-family:Menlo,'DejaVu Sans Mono',consolas,'Courier New',monospace\">- user_name\n",
       "</pre>\n"
      ],
      "text/plain": [
       "- user_name\n"
      ]
     },
     "metadata": {},
     "output_type": "display_data"
    },
    {
     "data": {
      "text/html": [
       "<pre style=\"white-space:pre;overflow-x:auto;line-height:normal;font-family:Menlo,'DejaVu Sans Mono',consolas,'Courier New',monospace\">- user_image_url\n",
       "</pre>\n"
      ],
      "text/plain": [
       "- user_image_url\n"
      ]
     },
     "metadata": {},
     "output_type": "display_data"
    },
    {
     "data": {
      "text/html": [
       "<pre style=\"white-space:pre;overflow-x:auto;line-height:normal;font-family:Menlo,'DejaVu Sans Mono',consolas,'Courier New',monospace\">Data:\n",
       "</pre>\n"
      ],
      "text/plain": [
       "Data:\n"
      ]
     },
     "metadata": {},
     "output_type": "display_data"
    },
    {
     "data": {
      "text/html": [
       "<pre style=\"white-space:pre;overflow-x:auto;line-height:normal;font-family:Menlo,'DejaVu Sans Mono',consolas,'Courier New',monospace\"><span style=\"font-weight: bold\">(</span><span style=\"color: #008080; text-decoration-color: #008080; font-weight: bold\">1</span>, <span style=\"color: #008000; text-decoration-color: #008000\">'spotify:user:sonemic.com'</span>, <span style=\"color: #008000; text-decoration-color: #008000\">'sonemic.com'</span>, <span style=\"color: #008000; text-decoration-color: #008000\">'https://i.scdn.co/image/ab67757000003b82642ce4dbd1cab92bc267868f'</span><span style=\"font-weight: bold\">)</span>\n",
       "</pre>\n"
      ],
      "text/plain": [
       "\u001b[1m(\u001b[0m\u001b[1;36m1\u001b[0m, \u001b[32m'spotify:user:sonemic.com'\u001b[0m, \u001b[32m'sonemic.com'\u001b[0m, \u001b[32m'https://i.scdn.co/image/ab67757000003b82642ce4dbd1cab92bc267868f'\u001b[0m\u001b[1m)\u001b[0m\n"
      ]
     },
     "metadata": {},
     "output_type": "display_data"
    },
    {
     "data": {
      "text/html": [
       "<pre style=\"white-space:pre;overflow-x:auto;line-height:normal;font-family:Menlo,'DejaVu Sans Mono',consolas,'Courier New',monospace\"><span style=\"font-weight: bold\">(</span>\n",
       "    <span style=\"color: #008080; text-decoration-color: #008080; font-weight: bold\">2</span>,\n",
       "    <span style=\"color: #008000; text-decoration-color: #008000\">'spotify:user:earm28v0wpfycco58h1e64qi4'</span>,\n",
       "    <span style=\"color: #008000; text-decoration-color: #008000\">'HuzgOnline'</span>,\n",
       "    <span style=\"color: #008000; text-decoration-color: #008000\">'https://i.scdn.co/image/ab67757000003b8243ad9adbb38d891c9c34b214'</span>\n",
       "<span style=\"font-weight: bold\">)</span>\n",
       "</pre>\n"
      ],
      "text/plain": [
       "\u001b[1m(\u001b[0m\n",
       "    \u001b[1;36m2\u001b[0m,\n",
       "    \u001b[32m'spotify:user:earm28v0wpfycco58h1e64qi4'\u001b[0m,\n",
       "    \u001b[32m'HuzgOnline'\u001b[0m,\n",
       "    \u001b[32m'https://i.scdn.co/image/ab67757000003b8243ad9adbb38d891c9c34b214'\u001b[0m\n",
       "\u001b[1m)\u001b[0m\n"
      ]
     },
     "metadata": {},
     "output_type": "display_data"
    },
    {
     "data": {
      "text/html": [
       "<pre style=\"white-space:pre;overflow-x:auto;line-height:normal;font-family:Menlo,'DejaVu Sans Mono',consolas,'Courier New',monospace\"><span style=\"font-weight: bold\">(</span>\n",
       "    <span style=\"color: #008080; text-decoration-color: #008080; font-weight: bold\">3</span>,\n",
       "    <span style=\"color: #008000; text-decoration-color: #008000\">'spotify:user:13v0l2zagkat9thdoqngm8ki8'</span>,\n",
       "    <span style=\"color: #008000; text-decoration-color: #008000\">'maja'</span>,\n",
       "    <span style=\"color: #008000; text-decoration-color: #008000\">'https://i.scdn.co/image/ab67757000003b822630b0839d17ab28f6be5b99'</span>\n",
       "<span style=\"font-weight: bold\">)</span>\n",
       "</pre>\n"
      ],
      "text/plain": [
       "\u001b[1m(\u001b[0m\n",
       "    \u001b[1;36m3\u001b[0m,\n",
       "    \u001b[32m'spotify:user:13v0l2zagkat9thdoqngm8ki8'\u001b[0m,\n",
       "    \u001b[32m'maja'\u001b[0m,\n",
       "    \u001b[32m'https://i.scdn.co/image/ab67757000003b822630b0839d17ab28f6be5b99'\u001b[0m\n",
       "\u001b[1m)\u001b[0m\n"
      ]
     },
     "metadata": {},
     "output_type": "display_data"
    },
    {
     "data": {
      "text/html": [
       "<pre style=\"white-space:pre;overflow-x:auto;line-height:normal;font-family:Menlo,'DejaVu Sans Mono',consolas,'Courier New',monospace\"><span style=\"font-weight: bold\">(</span>\n",
       "    <span style=\"color: #008080; text-decoration-color: #008080; font-weight: bold\">4</span>,\n",
       "    <span style=\"color: #008000; text-decoration-color: #008000\">'spotify:user:nqm0cupkbep7amqd07yrz0xm1'</span>,\n",
       "    <span style=\"color: #008000; text-decoration-color: #008000\">'aria'</span>,\n",
       "    <span style=\"color: #008000; text-decoration-color: #008000\">'https://i.scdn.co/image/ab67757000003b827948f3a08da74b5adff251e2'</span>\n",
       "<span style=\"font-weight: bold\">)</span>\n",
       "</pre>\n"
      ],
      "text/plain": [
       "\u001b[1m(\u001b[0m\n",
       "    \u001b[1;36m4\u001b[0m,\n",
       "    \u001b[32m'spotify:user:nqm0cupkbep7amqd07yrz0xm1'\u001b[0m,\n",
       "    \u001b[32m'aria'\u001b[0m,\n",
       "    \u001b[32m'https://i.scdn.co/image/ab67757000003b827948f3a08da74b5adff251e2'\u001b[0m\n",
       "\u001b[1m)\u001b[0m\n"
      ]
     },
     "metadata": {},
     "output_type": "display_data"
    },
    {
     "data": {
      "text/html": [
       "<pre style=\"white-space:pre;overflow-x:auto;line-height:normal;font-family:Menlo,'DejaVu Sans Mono',consolas,'Courier New',monospace\">\n",
       "</pre>\n"
      ],
      "text/plain": [
       "\n"
      ]
     },
     "metadata": {},
     "output_type": "display_data"
    },
    {
     "data": {
      "text/html": [
       "<pre style=\"white-space:pre;overflow-x:auto;line-height:normal;font-family:Menlo,'DejaVu Sans Mono',consolas,'Courier New',monospace\">Table: albums\n",
       "</pre>\n"
      ],
      "text/plain": [
       "Table: albums\n"
      ]
     },
     "metadata": {},
     "output_type": "display_data"
    },
    {
     "data": {
      "text/html": [
       "<pre style=\"white-space:pre;overflow-x:auto;line-height:normal;font-family:Menlo,'DejaVu Sans Mono',consolas,'Courier New',monospace\">Columns:\n",
       "</pre>\n"
      ],
      "text/plain": [
       "Columns:\n"
      ]
     },
     "metadata": {},
     "output_type": "display_data"
    },
    {
     "data": {
      "text/html": [
       "<pre style=\"white-space:pre;overflow-x:auto;line-height:normal;font-family:Menlo,'DejaVu Sans Mono',consolas,'Courier New',monospace\">- album_id\n",
       "</pre>\n"
      ],
      "text/plain": [
       "- album_id\n"
      ]
     },
     "metadata": {},
     "output_type": "display_data"
    },
    {
     "data": {
      "text/html": [
       "<pre style=\"white-space:pre;overflow-x:auto;line-height:normal;font-family:Menlo,'DejaVu Sans Mono',consolas,'Courier New',monospace\">- album_uri\n",
       "</pre>\n"
      ],
      "text/plain": [
       "- album_uri\n"
      ]
     },
     "metadata": {},
     "output_type": "display_data"
    },
    {
     "data": {
      "text/html": [
       "<pre style=\"white-space:pre;overflow-x:auto;line-height:normal;font-family:Menlo,'DejaVu Sans Mono',consolas,'Courier New',monospace\">- album_name\n",
       "</pre>\n"
      ],
      "text/plain": [
       "- album_name\n"
      ]
     },
     "metadata": {},
     "output_type": "display_data"
    },
    {
     "data": {
      "text/html": [
       "<pre style=\"white-space:pre;overflow-x:auto;line-height:normal;font-family:Menlo,'DejaVu Sans Mono',consolas,'Courier New',monospace\">Data:\n",
       "</pre>\n"
      ],
      "text/plain": [
       "Data:\n"
      ]
     },
     "metadata": {},
     "output_type": "display_data"
    },
    {
     "data": {
      "text/html": [
       "<pre style=\"white-space:pre;overflow-x:auto;line-height:normal;font-family:Menlo,'DejaVu Sans Mono',consolas,'Courier New',monospace\"><span style=\"font-weight: bold\">(</span><span style=\"color: #008080; text-decoration-color: #008080; font-weight: bold\">1</span>, <span style=\"color: #008000; text-decoration-color: #008000\">'spotify:album:3AxEzgmziHeFJakjU2IpMo'</span>, <span style=\"color: #008000; text-decoration-color: #008000\">'In The Fishtank 14'</span><span style=\"font-weight: bold\">)</span>\n",
       "</pre>\n"
      ],
      "text/plain": [
       "\u001b[1m(\u001b[0m\u001b[1;36m1\u001b[0m, \u001b[32m'spotify:album:3AxEzgmziHeFJakjU2IpMo'\u001b[0m, \u001b[32m'In The Fishtank 14'\u001b[0m\u001b[1m)\u001b[0m\n"
      ]
     },
     "metadata": {},
     "output_type": "display_data"
    },
    {
     "data": {
      "text/html": [
       "<pre style=\"white-space:pre;overflow-x:auto;line-height:normal;font-family:Menlo,'DejaVu Sans Mono',consolas,'Courier New',monospace\"><span style=\"font-weight: bold\">(</span><span style=\"color: #008080; text-decoration-color: #008080; font-weight: bold\">2</span>, <span style=\"color: #008000; text-decoration-color: #008000\">'spotify:album:6XgGYXzi9XGTPOiTSR81PK'</span>, <span style=\"color: #008000; text-decoration-color: #008000\">'17'</span><span style=\"font-weight: bold\">)</span>\n",
       "</pre>\n"
      ],
      "text/plain": [
       "\u001b[1m(\u001b[0m\u001b[1;36m2\u001b[0m, \u001b[32m'spotify:album:6XgGYXzi9XGTPOiTSR81PK'\u001b[0m, \u001b[32m'17'\u001b[0m\u001b[1m)\u001b[0m\n"
      ]
     },
     "metadata": {},
     "output_type": "display_data"
    },
    {
     "data": {
      "text/html": [
       "<pre style=\"white-space:pre;overflow-x:auto;line-height:normal;font-family:Menlo,'DejaVu Sans Mono',consolas,'Courier New',monospace\"><span style=\"font-weight: bold\">(</span><span style=\"color: #008080; text-decoration-color: #008080; font-weight: bold\">3</span>, <span style=\"color: #008000; text-decoration-color: #008000\">'spotify:album:7FySrxbb8xtskFg9XbLPc4'</span>, <span style=\"color: #008000; text-decoration-color: #008000\">'Heal (2013 Edition)'</span><span style=\"font-weight: bold\">)</span>\n",
       "</pre>\n"
      ],
      "text/plain": [
       "\u001b[1m(\u001b[0m\u001b[1;36m3\u001b[0m, \u001b[32m'spotify:album:7FySrxbb8xtskFg9XbLPc4'\u001b[0m, \u001b[32m'Heal \u001b[0m\u001b[32m(\u001b[0m\u001b[32m2013 Edition\u001b[0m\u001b[32m)\u001b[0m\u001b[32m'\u001b[0m\u001b[1m)\u001b[0m\n"
      ]
     },
     "metadata": {},
     "output_type": "display_data"
    },
    {
     "data": {
      "text/html": [
       "<pre style=\"white-space:pre;overflow-x:auto;line-height:normal;font-family:Menlo,'DejaVu Sans Mono',consolas,'Courier New',monospace\"><span style=\"font-weight: bold\">(</span><span style=\"color: #008080; text-decoration-color: #008080; font-weight: bold\">4</span>, <span style=\"color: #008000; text-decoration-color: #008000\">'spotify:album:7gnqDrbKJPJRFBhNc1rZ5m'</span>, <span style=\"color: #008000; text-decoration-color: #008000\">'Fane'</span><span style=\"font-weight: bold\">)</span>\n",
       "</pre>\n"
      ],
      "text/plain": [
       "\u001b[1m(\u001b[0m\u001b[1;36m4\u001b[0m, \u001b[32m'spotify:album:7gnqDrbKJPJRFBhNc1rZ5m'\u001b[0m, \u001b[32m'Fane'\u001b[0m\u001b[1m)\u001b[0m\n"
      ]
     },
     "metadata": {},
     "output_type": "display_data"
    },
    {
     "data": {
      "text/html": [
       "<pre style=\"white-space:pre;overflow-x:auto;line-height:normal;font-family:Menlo,'DejaVu Sans Mono',consolas,'Courier New',monospace\">\n",
       "</pre>\n"
      ],
      "text/plain": [
       "\n"
      ]
     },
     "metadata": {},
     "output_type": "display_data"
    },
    {
     "data": {
      "text/html": [
       "<pre style=\"white-space:pre;overflow-x:auto;line-height:normal;font-family:Menlo,'DejaVu Sans Mono',consolas,'Courier New',monospace\">Table: artists\n",
       "</pre>\n"
      ],
      "text/plain": [
       "Table: artists\n"
      ]
     },
     "metadata": {},
     "output_type": "display_data"
    },
    {
     "data": {
      "text/html": [
       "<pre style=\"white-space:pre;overflow-x:auto;line-height:normal;font-family:Menlo,'DejaVu Sans Mono',consolas,'Courier New',monospace\">Columns:\n",
       "</pre>\n"
      ],
      "text/plain": [
       "Columns:\n"
      ]
     },
     "metadata": {},
     "output_type": "display_data"
    },
    {
     "data": {
      "text/html": [
       "<pre style=\"white-space:pre;overflow-x:auto;line-height:normal;font-family:Menlo,'DejaVu Sans Mono',consolas,'Courier New',monospace\">- artist_id\n",
       "</pre>\n"
      ],
      "text/plain": [
       "- artist_id\n"
      ]
     },
     "metadata": {},
     "output_type": "display_data"
    },
    {
     "data": {
      "text/html": [
       "<pre style=\"white-space:pre;overflow-x:auto;line-height:normal;font-family:Menlo,'DejaVu Sans Mono',consolas,'Courier New',monospace\">- artist_uri\n",
       "</pre>\n"
      ],
      "text/plain": [
       "- artist_uri\n"
      ]
     },
     "metadata": {},
     "output_type": "display_data"
    },
    {
     "data": {
      "text/html": [
       "<pre style=\"white-space:pre;overflow-x:auto;line-height:normal;font-family:Menlo,'DejaVu Sans Mono',consolas,'Courier New',monospace\">- artist_name\n",
       "</pre>\n"
      ],
      "text/plain": [
       "- artist_name\n"
      ]
     },
     "metadata": {},
     "output_type": "display_data"
    },
    {
     "data": {
      "text/html": [
       "<pre style=\"white-space:pre;overflow-x:auto;line-height:normal;font-family:Menlo,'DejaVu Sans Mono',consolas,'Courier New',monospace\">Data:\n",
       "</pre>\n"
      ],
      "text/plain": [
       "Data:\n"
      ]
     },
     "metadata": {},
     "output_type": "display_data"
    },
    {
     "data": {
      "text/html": [
       "<pre style=\"white-space:pre;overflow-x:auto;line-height:normal;font-family:Menlo,'DejaVu Sans Mono',consolas,'Courier New',monospace\"><span style=\"font-weight: bold\">(</span><span style=\"color: #008080; text-decoration-color: #008080; font-weight: bold\">1</span>, <span style=\"color: #008000; text-decoration-color: #008000\">'spotify:artist:2vsXeWGC8rILp3rpSN2Fyk'</span>, <span style=\"color: #008000; text-decoration-color: #008000\">'ISIS'</span><span style=\"font-weight: bold\">)</span>\n",
       "</pre>\n"
      ],
      "text/plain": [
       "\u001b[1m(\u001b[0m\u001b[1;36m1\u001b[0m, \u001b[32m'spotify:artist:2vsXeWGC8rILp3rpSN2Fyk'\u001b[0m, \u001b[32m'ISIS'\u001b[0m\u001b[1m)\u001b[0m\n"
      ]
     },
     "metadata": {},
     "output_type": "display_data"
    },
    {
     "data": {
      "text/html": [
       "<pre style=\"white-space:pre;overflow-x:auto;line-height:normal;font-family:Menlo,'DejaVu Sans Mono',consolas,'Courier New',monospace\"><span style=\"font-weight: bold\">(</span><span style=\"color: #008080; text-decoration-color: #008080; font-weight: bold\">2</span>, <span style=\"color: #008000; text-decoration-color: #008000\">'spotify:artist:5SOeefBn30MJhB0bMVtLU1'</span>, <span style=\"color: #008000; text-decoration-color: #008000\">'Flyysoulja'</span><span style=\"font-weight: bold\">)</span>\n",
       "</pre>\n"
      ],
      "text/plain": [
       "\u001b[1m(\u001b[0m\u001b[1;36m2\u001b[0m, \u001b[32m'spotify:artist:5SOeefBn30MJhB0bMVtLU1'\u001b[0m, \u001b[32m'Flyysoulja'\u001b[0m\u001b[1m)\u001b[0m\n"
      ]
     },
     "metadata": {},
     "output_type": "display_data"
    },
    {
     "data": {
      "text/html": [
       "<pre style=\"white-space:pre;overflow-x:auto;line-height:normal;font-family:Menlo,'DejaVu Sans Mono',consolas,'Courier New',monospace\"><span style=\"font-weight: bold\">(</span><span style=\"color: #008080; text-decoration-color: #008080; font-weight: bold\">3</span>, <span style=\"color: #008000; text-decoration-color: #008000\">'spotify:artist:49aaHxvAJ0tCh0F15OnwIl'</span>, <span style=\"color: #008000; text-decoration-color: #008000\">'Loreen'</span><span style=\"font-weight: bold\">)</span>\n",
       "</pre>\n"
      ],
      "text/plain": [
       "\u001b[1m(\u001b[0m\u001b[1;36m3\u001b[0m, \u001b[32m'spotify:artist:49aaHxvAJ0tCh0F15OnwIl'\u001b[0m, \u001b[32m'Loreen'\u001b[0m\u001b[1m)\u001b[0m\n"
      ]
     },
     "metadata": {},
     "output_type": "display_data"
    },
    {
     "data": {
      "text/html": [
       "<pre style=\"white-space:pre;overflow-x:auto;line-height:normal;font-family:Menlo,'DejaVu Sans Mono',consolas,'Courier New',monospace\"><span style=\"font-weight: bold\">(</span><span style=\"color: #008080; text-decoration-color: #008080; font-weight: bold\">4</span>, <span style=\"color: #008000; text-decoration-color: #008000\">'spotify:artist:4KoESQh0bNRpcBHXwxXSsL'</span>, <span style=\"color: #008000; text-decoration-color: #008000\">'Ante-Inferno'</span><span style=\"font-weight: bold\">)</span>\n",
       "</pre>\n"
      ],
      "text/plain": [
       "\u001b[1m(\u001b[0m\u001b[1;36m4\u001b[0m, \u001b[32m'spotify:artist:4KoESQh0bNRpcBHXwxXSsL'\u001b[0m, \u001b[32m'Ante-Inferno'\u001b[0m\u001b[1m)\u001b[0m\n"
      ]
     },
     "metadata": {},
     "output_type": "display_data"
    },
    {
     "data": {
      "text/html": [
       "<pre style=\"white-space:pre;overflow-x:auto;line-height:normal;font-family:Menlo,'DejaVu Sans Mono',consolas,'Courier New',monospace\">\n",
       "</pre>\n"
      ],
      "text/plain": [
       "\n"
      ]
     },
     "metadata": {},
     "output_type": "display_data"
    },
    {
     "data": {
      "text/html": [
       "<pre style=\"white-space:pre;overflow-x:auto;line-height:normal;font-family:Menlo,'DejaVu Sans Mono',consolas,'Courier New',monospace\">Table: tracks\n",
       "</pre>\n"
      ],
      "text/plain": [
       "Table: tracks\n"
      ]
     },
     "metadata": {},
     "output_type": "display_data"
    },
    {
     "data": {
      "text/html": [
       "<pre style=\"white-space:pre;overflow-x:auto;line-height:normal;font-family:Menlo,'DejaVu Sans Mono',consolas,'Courier New',monospace\">Columns:\n",
       "</pre>\n"
      ],
      "text/plain": [
       "Columns:\n"
      ]
     },
     "metadata": {},
     "output_type": "display_data"
    },
    {
     "data": {
      "text/html": [
       "<pre style=\"white-space:pre;overflow-x:auto;line-height:normal;font-family:Menlo,'DejaVu Sans Mono',consolas,'Courier New',monospace\">- track_id\n",
       "</pre>\n"
      ],
      "text/plain": [
       "- track_id\n"
      ]
     },
     "metadata": {},
     "output_type": "display_data"
    },
    {
     "data": {
      "text/html": [
       "<pre style=\"white-space:pre;overflow-x:auto;line-height:normal;font-family:Menlo,'DejaVu Sans Mono',consolas,'Courier New',monospace\">- track_uri\n",
       "</pre>\n"
      ],
      "text/plain": [
       "- track_uri\n"
      ]
     },
     "metadata": {},
     "output_type": "display_data"
    },
    {
     "data": {
      "text/html": [
       "<pre style=\"white-space:pre;overflow-x:auto;line-height:normal;font-family:Menlo,'DejaVu Sans Mono',consolas,'Courier New',monospace\">- track_name\n",
       "</pre>\n"
      ],
      "text/plain": [
       "- track_name\n"
      ]
     },
     "metadata": {},
     "output_type": "display_data"
    },
    {
     "data": {
      "text/html": [
       "<pre style=\"white-space:pre;overflow-x:auto;line-height:normal;font-family:Menlo,'DejaVu Sans Mono',consolas,'Courier New',monospace\">- track_image_url\n",
       "</pre>\n"
      ],
      "text/plain": [
       "- track_image_url\n"
      ]
     },
     "metadata": {},
     "output_type": "display_data"
    },
    {
     "data": {
      "text/html": [
       "<pre style=\"white-space:pre;overflow-x:auto;line-height:normal;font-family:Menlo,'DejaVu Sans Mono',consolas,'Courier New',monospace\">- album_id\n",
       "</pre>\n"
      ],
      "text/plain": [
       "- album_id\n"
      ]
     },
     "metadata": {},
     "output_type": "display_data"
    },
    {
     "data": {
      "text/html": [
       "<pre style=\"white-space:pre;overflow-x:auto;line-height:normal;font-family:Menlo,'DejaVu Sans Mono',consolas,'Courier New',monospace\">- artist_id\n",
       "</pre>\n"
      ],
      "text/plain": [
       "- artist_id\n"
      ]
     },
     "metadata": {},
     "output_type": "display_data"
    },
    {
     "data": {
      "text/html": [
       "<pre style=\"white-space:pre;overflow-x:auto;line-height:normal;font-family:Menlo,'DejaVu Sans Mono',consolas,'Courier New',monospace\">Data:\n",
       "</pre>\n"
      ],
      "text/plain": [
       "Data:\n"
      ]
     },
     "metadata": {},
     "output_type": "display_data"
    },
    {
     "data": {
      "text/html": [
       "<pre style=\"white-space:pre;overflow-x:auto;line-height:normal;font-family:Menlo,'DejaVu Sans Mono',consolas,'Courier New',monospace\"><span style=\"font-weight: bold\">(</span>\n",
       "    <span style=\"color: #008080; text-decoration-color: #008080; font-weight: bold\">1</span>,\n",
       "    <span style=\"color: #008000; text-decoration-color: #008000\">'spotify:track:6hznbfFE7idaaS7v2Solxv'</span>,\n",
       "    <span style=\"color: #008000; text-decoration-color: #008000\">'Delial'</span>,\n",
       "    <span style=\"color: #008000; text-decoration-color: #008000\">'http://i.scdn.co/image/ab67616d0000b2733a21b73579f7808ff6980f2a'</span>,\n",
       "    <span style=\"color: #008080; text-decoration-color: #008080; font-weight: bold\">1</span>,\n",
       "    <span style=\"color: #008080; text-decoration-color: #008080; font-weight: bold\">1</span>\n",
       "<span style=\"font-weight: bold\">)</span>\n",
       "</pre>\n"
      ],
      "text/plain": [
       "\u001b[1m(\u001b[0m\n",
       "    \u001b[1;36m1\u001b[0m,\n",
       "    \u001b[32m'spotify:track:6hznbfFE7idaaS7v2Solxv'\u001b[0m,\n",
       "    \u001b[32m'Delial'\u001b[0m,\n",
       "    \u001b[32m'http://i.scdn.co/image/ab67616d0000b2733a21b73579f7808ff6980f2a'\u001b[0m,\n",
       "    \u001b[1;36m1\u001b[0m,\n",
       "    \u001b[1;36m1\u001b[0m\n",
       "\u001b[1m)\u001b[0m\n"
      ]
     },
     "metadata": {},
     "output_type": "display_data"
    },
    {
     "data": {
      "text/html": [
       "<pre style=\"white-space:pre;overflow-x:auto;line-height:normal;font-family:Menlo,'DejaVu Sans Mono',consolas,'Courier New',monospace\"><span style=\"font-weight: bold\">(</span>\n",
       "    <span style=\"color: #008080; text-decoration-color: #008080; font-weight: bold\">2</span>,\n",
       "    <span style=\"color: #008000; text-decoration-color: #008000\">'spotify:track:6E2hXlmgxJpVgZtNeVQ4aO'</span>,\n",
       "    <span style=\"color: #008000; text-decoration-color: #008000\">'Head'</span>,\n",
       "    <span style=\"color: #008000; text-decoration-color: #008000\">'http://i.scdn.co/image/ab67616d0000b2737ff32c46fd3ad7b86994764e'</span>,\n",
       "    <span style=\"color: #008080; text-decoration-color: #008080; font-weight: bold\">2</span>,\n",
       "    <span style=\"color: #008080; text-decoration-color: #008080; font-weight: bold\">2</span>\n",
       "<span style=\"font-weight: bold\">)</span>\n",
       "</pre>\n"
      ],
      "text/plain": [
       "\u001b[1m(\u001b[0m\n",
       "    \u001b[1;36m2\u001b[0m,\n",
       "    \u001b[32m'spotify:track:6E2hXlmgxJpVgZtNeVQ4aO'\u001b[0m,\n",
       "    \u001b[32m'Head'\u001b[0m,\n",
       "    \u001b[32m'http://i.scdn.co/image/ab67616d0000b2737ff32c46fd3ad7b86994764e'\u001b[0m,\n",
       "    \u001b[1;36m2\u001b[0m,\n",
       "    \u001b[1;36m2\u001b[0m\n",
       "\u001b[1m)\u001b[0m\n"
      ]
     },
     "metadata": {},
     "output_type": "display_data"
    },
    {
     "data": {
      "text/html": [
       "<pre style=\"white-space:pre;overflow-x:auto;line-height:normal;font-family:Menlo,'DejaVu Sans Mono',consolas,'Courier New',monospace\"><span style=\"font-weight: bold\">(</span>\n",
       "    <span style=\"color: #008080; text-decoration-color: #008080; font-weight: bold\">3</span>,\n",
       "    <span style=\"color: #008000; text-decoration-color: #008000\">'spotify:track:6aJVSu9oPmRIgw8xPT66wV'</span>,\n",
       "    <span style=\"color: #008000; text-decoration-color: #008000\">'Euphoria'</span>,\n",
       "    <span style=\"color: #008000; text-decoration-color: #008000\">'http://i.scdn.co/image/ab67616d0000b2730d43f1a9c16e5501c5c5a456'</span>,\n",
       "    <span style=\"color: #008080; text-decoration-color: #008080; font-weight: bold\">3</span>,\n",
       "    <span style=\"color: #008080; text-decoration-color: #008080; font-weight: bold\">3</span>\n",
       "<span style=\"font-weight: bold\">)</span>\n",
       "</pre>\n"
      ],
      "text/plain": [
       "\u001b[1m(\u001b[0m\n",
       "    \u001b[1;36m3\u001b[0m,\n",
       "    \u001b[32m'spotify:track:6aJVSu9oPmRIgw8xPT66wV'\u001b[0m,\n",
       "    \u001b[32m'Euphoria'\u001b[0m,\n",
       "    \u001b[32m'http://i.scdn.co/image/ab67616d0000b2730d43f1a9c16e5501c5c5a456'\u001b[0m,\n",
       "    \u001b[1;36m3\u001b[0m,\n",
       "    \u001b[1;36m3\u001b[0m\n",
       "\u001b[1m)\u001b[0m\n"
      ]
     },
     "metadata": {},
     "output_type": "display_data"
    },
    {
     "data": {
      "text/html": [
       "<pre style=\"white-space:pre;overflow-x:auto;line-height:normal;font-family:Menlo,'DejaVu Sans Mono',consolas,'Courier New',monospace\"><span style=\"font-weight: bold\">(</span>\n",
       "    <span style=\"color: #008080; text-decoration-color: #008080; font-weight: bold\">4</span>,\n",
       "    <span style=\"color: #008000; text-decoration-color: #008000\">'spotify:track:1EntZBI845PJjylSlLkRVR'</span>,\n",
       "    <span style=\"color: #008000; text-decoration-color: #008000\">'Absence'</span>,\n",
       "    <span style=\"color: #008000; text-decoration-color: #008000\">'http://i.scdn.co/image/ab67616d0000b2738c25fe313240630e189a17e0'</span>,\n",
       "    <span style=\"color: #008080; text-decoration-color: #008080; font-weight: bold\">4</span>,\n",
       "    <span style=\"color: #008080; text-decoration-color: #008080; font-weight: bold\">4</span>\n",
       "<span style=\"font-weight: bold\">)</span>\n",
       "</pre>\n"
      ],
      "text/plain": [
       "\u001b[1m(\u001b[0m\n",
       "    \u001b[1;36m4\u001b[0m,\n",
       "    \u001b[32m'spotify:track:1EntZBI845PJjylSlLkRVR'\u001b[0m,\n",
       "    \u001b[32m'Absence'\u001b[0m,\n",
       "    \u001b[32m'http://i.scdn.co/image/ab67616d0000b2738c25fe313240630e189a17e0'\u001b[0m,\n",
       "    \u001b[1;36m4\u001b[0m,\n",
       "    \u001b[1;36m4\u001b[0m\n",
       "\u001b[1m)\u001b[0m\n"
      ]
     },
     "metadata": {},
     "output_type": "display_data"
    },
    {
     "data": {
      "text/html": [
       "<pre style=\"white-space:pre;overflow-x:auto;line-height:normal;font-family:Menlo,'DejaVu Sans Mono',consolas,'Courier New',monospace\">\n",
       "</pre>\n"
      ],
      "text/plain": [
       "\n"
      ]
     },
     "metadata": {},
     "output_type": "display_data"
    },
    {
     "data": {
      "text/html": [
       "<pre style=\"white-space:pre;overflow-x:auto;line-height:normal;font-family:Menlo,'DejaVu Sans Mono',consolas,'Courier New',monospace\">Table: context\n",
       "</pre>\n"
      ],
      "text/plain": [
       "Table: context\n"
      ]
     },
     "metadata": {},
     "output_type": "display_data"
    },
    {
     "data": {
      "text/html": [
       "<pre style=\"white-space:pre;overflow-x:auto;line-height:normal;font-family:Menlo,'DejaVu Sans Mono',consolas,'Courier New',monospace\">Columns:\n",
       "</pre>\n"
      ],
      "text/plain": [
       "Columns:\n"
      ]
     },
     "metadata": {},
     "output_type": "display_data"
    },
    {
     "data": {
      "text/html": [
       "<pre style=\"white-space:pre;overflow-x:auto;line-height:normal;font-family:Menlo,'DejaVu Sans Mono',consolas,'Courier New',monospace\">- context_id\n",
       "</pre>\n"
      ],
      "text/plain": [
       "- context_id\n"
      ]
     },
     "metadata": {},
     "output_type": "display_data"
    },
    {
     "data": {
      "text/html": [
       "<pre style=\"white-space:pre;overflow-x:auto;line-height:normal;font-family:Menlo,'DejaVu Sans Mono',consolas,'Courier New',monospace\">- context_uri\n",
       "</pre>\n"
      ],
      "text/plain": [
       "- context_uri\n"
      ]
     },
     "metadata": {},
     "output_type": "display_data"
    },
    {
     "data": {
      "text/html": [
       "<pre style=\"white-space:pre;overflow-x:auto;line-height:normal;font-family:Menlo,'DejaVu Sans Mono',consolas,'Courier New',monospace\">- context_name\n",
       "</pre>\n"
      ],
      "text/plain": [
       "- context_name\n"
      ]
     },
     "metadata": {},
     "output_type": "display_data"
    },
    {
     "data": {
      "text/html": [
       "<pre style=\"white-space:pre;overflow-x:auto;line-height:normal;font-family:Menlo,'DejaVu Sans Mono',consolas,'Courier New',monospace\">- context_index\n",
       "</pre>\n"
      ],
      "text/plain": [
       "- context_index\n"
      ]
     },
     "metadata": {},
     "output_type": "display_data"
    },
    {
     "data": {
      "text/html": [
       "<pre style=\"white-space:pre;overflow-x:auto;line-height:normal;font-family:Menlo,'DejaVu Sans Mono',consolas,'Courier New',monospace\">Data:\n",
       "</pre>\n"
      ],
      "text/plain": [
       "Data:\n"
      ]
     },
     "metadata": {},
     "output_type": "display_data"
    },
    {
     "data": {
      "text/html": [
       "<pre style=\"white-space:pre;overflow-x:auto;line-height:normal;font-family:Menlo,'DejaVu Sans Mono',consolas,'Courier New',monospace\"><span style=\"font-weight: bold\">(</span><span style=\"color: #008080; text-decoration-color: #008080; font-weight: bold\">1</span>, <span style=\"color: #008000; text-decoration-color: #008000\">'spotify:album:7JjgvQWsLpIAvwgj2QtxAP'</span>, <span style=\"color: #008000; text-decoration-color: #008000\">\"The Bees Made Honey In The Lion's Skull\"</span>, <span style=\"color: #008080; text-decoration-color: #008080; font-weight: bold\">0</span><span style=\"font-weight: bold\">)</span>\n",
       "</pre>\n"
      ],
      "text/plain": [
       "\u001b[1m(\u001b[0m\u001b[1;36m1\u001b[0m, \u001b[32m'spotify:album:7JjgvQWsLpIAvwgj2QtxAP'\u001b[0m, \u001b[32m\"The Bees Made Honey In The Lion's Skull\"\u001b[0m, \u001b[1;36m0\u001b[0m\u001b[1m)\u001b[0m\n"
      ]
     },
     "metadata": {},
     "output_type": "display_data"
    },
    {
     "data": {
      "text/html": [
       "<pre style=\"white-space:pre;overflow-x:auto;line-height:normal;font-family:Menlo,'DejaVu Sans Mono',consolas,'Courier New',monospace\"><span style=\"font-weight: bold\">(</span><span style=\"color: #008080; text-decoration-color: #008080; font-weight: bold\">2</span>, <span style=\"color: #008000; text-decoration-color: #008000\">'spotify:album:6XgGYXzi9XGTPOiTSR81PK'</span>, <span style=\"color: #008000; text-decoration-color: #008000\">'17'</span>, <span style=\"color: #008080; text-decoration-color: #008080; font-weight: bold\">0</span><span style=\"font-weight: bold\">)</span>\n",
       "</pre>\n"
      ],
      "text/plain": [
       "\u001b[1m(\u001b[0m\u001b[1;36m2\u001b[0m, \u001b[32m'spotify:album:6XgGYXzi9XGTPOiTSR81PK'\u001b[0m, \u001b[32m'17'\u001b[0m, \u001b[1;36m0\u001b[0m\u001b[1m)\u001b[0m\n"
      ]
     },
     "metadata": {},
     "output_type": "display_data"
    },
    {
     "data": {
      "text/html": [
       "<pre style=\"white-space:pre;overflow-x:auto;line-height:normal;font-family:Menlo,'DejaVu Sans Mono',consolas,'Courier New',monospace\"><span style=\"font-weight: bold\">(</span><span style=\"color: #008080; text-decoration-color: #008080; font-weight: bold\">3</span>, <span style=\"color: #008000; text-decoration-color: #008000\">'spotify:playlist:6lD3G00U6bQazQoBV9hT4B'</span>, <span style=\"color: #008000; text-decoration-color: #008000\">'Meine Playlist Nr.\\xa025'</span>, <span style=\"color: #008080; text-decoration-color: #008080; font-weight: bold\">0</span><span style=\"font-weight: bold\">)</span>\n",
       "</pre>\n"
      ],
      "text/plain": [
       "\u001b[1m(\u001b[0m\u001b[1;36m3\u001b[0m, \u001b[32m'spotify:playlist:6lD3G00U6bQazQoBV9hT4B'\u001b[0m, \u001b[32m'Meine Playlist Nr.\\xa025'\u001b[0m, \u001b[1;36m0\u001b[0m\u001b[1m)\u001b[0m\n"
      ]
     },
     "metadata": {},
     "output_type": "display_data"
    },
    {
     "data": {
      "text/html": [
       "<pre style=\"white-space:pre;overflow-x:auto;line-height:normal;font-family:Menlo,'DejaVu Sans Mono',consolas,'Courier New',monospace\"><span style=\"font-weight: bold\">(</span><span style=\"color: #008080; text-decoration-color: #008080; font-weight: bold\">4</span>, <span style=\"color: #008000; text-decoration-color: #008000\">'spotify:album:2BfUr6KhdKdhgt03o6yZe3'</span>, <span style=\"color: #008000; text-decoration-color: #008000\">'The Burning Spears of Crimson Agony'</span>, <span style=\"color: #008080; text-decoration-color: #008080; font-weight: bold\">0</span><span style=\"font-weight: bold\">)</span>\n",
       "</pre>\n"
      ],
      "text/plain": [
       "\u001b[1m(\u001b[0m\u001b[1;36m4\u001b[0m, \u001b[32m'spotify:album:2BfUr6KhdKdhgt03o6yZe3'\u001b[0m, \u001b[32m'The Burning Spears of Crimson Agony'\u001b[0m, \u001b[1;36m0\u001b[0m\u001b[1m)\u001b[0m\n"
      ]
     },
     "metadata": {},
     "output_type": "display_data"
    },
    {
     "data": {
      "text/html": [
       "<pre style=\"white-space:pre;overflow-x:auto;line-height:normal;font-family:Menlo,'DejaVu Sans Mono',consolas,'Courier New',monospace\">\n",
       "</pre>\n"
      ],
      "text/plain": [
       "\n"
      ]
     },
     "metadata": {},
     "output_type": "display_data"
    },
    {
     "data": {
      "text/html": [
       "<pre style=\"white-space:pre;overflow-x:auto;line-height:normal;font-family:Menlo,'DejaVu Sans Mono',consolas,'Courier New',monospace\">Table: streamings\n",
       "</pre>\n"
      ],
      "text/plain": [
       "Table: streamings\n"
      ]
     },
     "metadata": {},
     "output_type": "display_data"
    },
    {
     "data": {
      "text/html": [
       "<pre style=\"white-space:pre;overflow-x:auto;line-height:normal;font-family:Menlo,'DejaVu Sans Mono',consolas,'Courier New',monospace\">Columns:\n",
       "</pre>\n"
      ],
      "text/plain": [
       "Columns:\n"
      ]
     },
     "metadata": {},
     "output_type": "display_data"
    },
    {
     "data": {
      "text/html": [
       "<pre style=\"white-space:pre;overflow-x:auto;line-height:normal;font-family:Menlo,'DejaVu Sans Mono',consolas,'Courier New',monospace\">- user_id\n",
       "</pre>\n"
      ],
      "text/plain": [
       "- user_id\n"
      ]
     },
     "metadata": {},
     "output_type": "display_data"
    },
    {
     "data": {
      "text/html": [
       "<pre style=\"white-space:pre;overflow-x:auto;line-height:normal;font-family:Menlo,'DejaVu Sans Mono',consolas,'Courier New',monospace\">- track_id\n",
       "</pre>\n"
      ],
      "text/plain": [
       "- track_id\n"
      ]
     },
     "metadata": {},
     "output_type": "display_data"
    },
    {
     "data": {
      "text/html": [
       "<pre style=\"white-space:pre;overflow-x:auto;line-height:normal;font-family:Menlo,'DejaVu Sans Mono',consolas,'Courier New',monospace\">- timestamp\n",
       "</pre>\n"
      ],
      "text/plain": [
       "- timestamp\n"
      ]
     },
     "metadata": {},
     "output_type": "display_data"
    },
    {
     "data": {
      "text/html": [
       "<pre style=\"white-space:pre;overflow-x:auto;line-height:normal;font-family:Menlo,'DejaVu Sans Mono',consolas,'Courier New',monospace\">- context_id\n",
       "</pre>\n"
      ],
      "text/plain": [
       "- context_id\n"
      ]
     },
     "metadata": {},
     "output_type": "display_data"
    },
    {
     "data": {
      "text/html": [
       "<pre style=\"white-space:pre;overflow-x:auto;line-height:normal;font-family:Menlo,'DejaVu Sans Mono',consolas,'Courier New',monospace\">Data:\n",
       "</pre>\n"
      ],
      "text/plain": [
       "Data:\n"
      ]
     },
     "metadata": {},
     "output_type": "display_data"
    },
    {
     "data": {
      "text/html": [
       "<pre style=\"white-space:pre;overflow-x:auto;line-height:normal;font-family:Menlo,'DejaVu Sans Mono',consolas,'Courier New',monospace\"><span style=\"font-weight: bold\">(</span><span style=\"color: #008080; text-decoration-color: #008080; font-weight: bold\">1</span>, <span style=\"color: #008080; text-decoration-color: #008080; font-weight: bold\">1</span>, <span style=\"color: #008000; text-decoration-color: #008000\">'1684069017858'</span>, <span style=\"color: #800080; text-decoration-color: #800080; font-style: italic\">None</span><span style=\"font-weight: bold\">)</span>\n",
       "</pre>\n"
      ],
      "text/plain": [
       "\u001b[1m(\u001b[0m\u001b[1;36m1\u001b[0m, \u001b[1;36m1\u001b[0m, \u001b[32m'1684069017858'\u001b[0m, \u001b[3;35mNone\u001b[0m\u001b[1m)\u001b[0m\n"
      ]
     },
     "metadata": {},
     "output_type": "display_data"
    },
    {
     "data": {
      "text/html": [
       "<pre style=\"white-space:pre;overflow-x:auto;line-height:normal;font-family:Menlo,'DejaVu Sans Mono',consolas,'Courier New',monospace\"><span style=\"font-weight: bold\">(</span><span style=\"color: #008080; text-decoration-color: #008080; font-weight: bold\">2</span>, <span style=\"color: #008080; text-decoration-color: #008080; font-weight: bold\">2</span>, <span style=\"color: #008000; text-decoration-color: #008000\">'1684074584415'</span>, <span style=\"color: #800080; text-decoration-color: #800080; font-style: italic\">None</span><span style=\"font-weight: bold\">)</span>\n",
       "</pre>\n"
      ],
      "text/plain": [
       "\u001b[1m(\u001b[0m\u001b[1;36m2\u001b[0m, \u001b[1;36m2\u001b[0m, \u001b[32m'1684074584415'\u001b[0m, \u001b[3;35mNone\u001b[0m\u001b[1m)\u001b[0m\n"
      ]
     },
     "metadata": {},
     "output_type": "display_data"
    },
    {
     "data": {
      "text/html": [
       "<pre style=\"white-space:pre;overflow-x:auto;line-height:normal;font-family:Menlo,'DejaVu Sans Mono',consolas,'Courier New',monospace\"><span style=\"font-weight: bold\">(</span><span style=\"color: #008080; text-decoration-color: #008080; font-weight: bold\">3</span>, <span style=\"color: #008080; text-decoration-color: #008080; font-weight: bold\">3</span>, <span style=\"color: #008000; text-decoration-color: #008000\">'1684261183291'</span>, <span style=\"color: #800080; text-decoration-color: #800080; font-style: italic\">None</span><span style=\"font-weight: bold\">)</span>\n",
       "</pre>\n"
      ],
      "text/plain": [
       "\u001b[1m(\u001b[0m\u001b[1;36m3\u001b[0m, \u001b[1;36m3\u001b[0m, \u001b[32m'1684261183291'\u001b[0m, \u001b[3;35mNone\u001b[0m\u001b[1m)\u001b[0m\n"
      ]
     },
     "metadata": {},
     "output_type": "display_data"
    },
    {
     "data": {
      "text/html": [
       "<pre style=\"white-space:pre;overflow-x:auto;line-height:normal;font-family:Menlo,'DejaVu Sans Mono',consolas,'Courier New',monospace\"><span style=\"font-weight: bold\">(</span><span style=\"color: #008080; text-decoration-color: #008080; font-weight: bold\">4</span>, <span style=\"color: #008080; text-decoration-color: #008080; font-weight: bold\">4</span>, <span style=\"color: #008000; text-decoration-color: #008000\">'1684281732362'</span>, <span style=\"color: #800080; text-decoration-color: #800080; font-style: italic\">None</span><span style=\"font-weight: bold\">)</span>\n",
       "</pre>\n"
      ],
      "text/plain": [
       "\u001b[1m(\u001b[0m\u001b[1;36m4\u001b[0m, \u001b[1;36m4\u001b[0m, \u001b[32m'1684281732362'\u001b[0m, \u001b[3;35mNone\u001b[0m\u001b[1m)\u001b[0m\n"
      ]
     },
     "metadata": {},
     "output_type": "display_data"
    },
    {
     "data": {
      "text/html": [
       "<pre style=\"white-space:pre;overflow-x:auto;line-height:normal;font-family:Menlo,'DejaVu Sans Mono',consolas,'Courier New',monospace\">\n",
       "</pre>\n"
      ],
      "text/plain": [
       "\n"
      ]
     },
     "metadata": {},
     "output_type": "display_data"
    }
   ],
   "source": [
    "# Import sqlite3 module\n",
    "import sqlite3\n",
    "\n",
    "# Connect to the database\n",
    "conn = sqlite3.connect(\"friends_activity.db\")\n",
    "\n",
    "# Create a cursor object\n",
    "cursor = conn.cursor()\n",
    "\n",
    "# Get the names of all tables in the database\n",
    "cursor.execute(\"SELECT name FROM sqlite_master WHERE type='table'\")\n",
    "tables = cursor.fetchall()\n",
    "\n",
    "# Loop through each table\n",
    "for table in tables:\n",
    "    # Print the table name\n",
    "    print(f\"Table: {table[0]}\")\n",
    "    \n",
    "    # Get the names of all columns in the table\n",
    "    cursor.execute(f\"PRAGMA table_info({table[0]})\")\n",
    "    columns = cursor.fetchall()\n",
    "    \n",
    "    # Print the column names\n",
    "    print(\"Columns:\")\n",
    "    for column in columns:\n",
    "        print(f\"- {column[1]}\")\n",
    "    \n",
    "    # Get the first 10 rows of data from the table\n",
    "    cursor.execute(f\"SELECT * FROM {table[0]} LIMIT 4\")\n",
    "    data = cursor.fetchall()\n",
    "    \n",
    "    # Print the data\n",
    "    print(\"Data:\")\n",
    "    for row in data:\n",
    "        print(row)\n",
    "    \n",
    "    # Print a blank line for separation\n",
    "    print()\n"
   ]
  }
 ],
 "metadata": {
  "kernelspec": {
   "display_name": "Python 3",
   "language": "python",
   "name": "python3"
  },
  "language_info": {
   "codemirror_mode": {
    "name": "ipython",
    "version": 3
   },
   "file_extension": ".py",
   "mimetype": "text/x-python",
   "name": "python",
   "nbconvert_exporter": "python",
   "pygments_lexer": "ipython3",
   "version": "3.10.6"
  },
  "orig_nbformat": 4
 },
 "nbformat": 4,
 "nbformat_minor": 2
}
